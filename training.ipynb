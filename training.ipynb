{
 "cells": [
  {
   "cell_type": "code",
   "execution_count": 1,
   "metadata": {},
   "outputs": [],
   "source": [
    "import numpy as np\n",
    "import pandas as pd\n",
    "import seaborn as sns\n",
    "import matplotlib.pyplot as plt\n",
    "\n",
    "from sklearn.model_selection import train_test_split\n",
    "from sklearn.feature_extraction.text import CountVectorizer, TfidfTransformer\n",
    "from sklearn.linear_model import LogisticRegression\n",
    "from sklearn.svm import SVC\n",
    "from sklearn.neural_network import MLPClassifier\n",
    "from sklearn.metrics import confusion_matrix, classification_report, accuracy_score"
   ]
  },
  {
   "cell_type": "code",
   "execution_count": 2,
   "metadata": {},
   "outputs": [
    {
     "name": "stdout",
     "output_type": "stream",
     "text": [
      "<class 'pandas.core.frame.DataFrame'>\n",
      "RangeIndex: 11552 entries, 0 to 11551\n",
      "Data columns (total 3 columns):\n",
      " #   Column             Non-Null Count  Dtype \n",
      "---  ------             --------------  ----- \n",
      " 0   Unnamed: 0         11552 non-null  int64 \n",
      " 1   FORMATTED_CONTENT  11525 non-null  object\n",
      " 2   CLASS              11552 non-null  int64 \n",
      "dtypes: int64(2), object(1)\n",
      "memory usage: 270.9+ KB\n"
     ]
    }
   ],
   "source": [
    "data = pd.read_csv('./data/Final-Dataset.csv')\n",
    "data.info()"
   ]
  },
  {
   "cell_type": "code",
   "execution_count": 3,
   "metadata": {},
   "outputs": [
    {
     "data": {
      "text/html": [
       "<div>\n",
       "<style scoped>\n",
       "    .dataframe tbody tr th:only-of-type {\n",
       "        vertical-align: middle;\n",
       "    }\n",
       "\n",
       "    .dataframe tbody tr th {\n",
       "        vertical-align: top;\n",
       "    }\n",
       "\n",
       "    .dataframe thead th {\n",
       "        text-align: right;\n",
       "    }\n",
       "</style>\n",
       "<table border=\"1\" class=\"dataframe\">\n",
       "  <thead>\n",
       "    <tr style=\"text-align: right;\">\n",
       "      <th></th>\n",
       "      <th>FORMATTED_CONTENT</th>\n",
       "      <th>CLASS</th>\n",
       "    </tr>\n",
       "  </thead>\n",
       "  <tbody>\n",
       "    <tr>\n",
       "      <th>0</th>\n",
       "      <td>I love this song</td>\n",
       "      <td>0</td>\n",
       "    </tr>\n",
       "    <tr>\n",
       "      <th>1</th>\n",
       "      <td>The TREU DETECTIVE alternate ending http www f...</td>\n",
       "      <td>1</td>\n",
       "    </tr>\n",
       "    <tr>\n",
       "      <th>2</th>\n",
       "      <td>U don t remember that old commercial</td>\n",
       "      <td>0</td>\n",
       "    </tr>\n",
       "    <tr>\n",
       "      <th>3</th>\n",
       "      <td>hey guys i really want to go to a katy perry c...</td>\n",
       "      <td>1</td>\n",
       "    </tr>\n",
       "    <tr>\n",
       "      <th>4</th>\n",
       "      <td>Birthdays are good for you Studies show that t...</td>\n",
       "      <td>1</td>\n",
       "    </tr>\n",
       "  </tbody>\n",
       "</table>\n",
       "</div>"
      ],
      "text/plain": [
       "                                   FORMATTED_CONTENT  CLASS\n",
       "0                                   I love this song      0\n",
       "1  The TREU DETECTIVE alternate ending http www f...      1\n",
       "2               U don t remember that old commercial      0\n",
       "3  hey guys i really want to go to a katy perry c...      1\n",
       "4  Birthdays are good for you Studies show that t...      1"
      ]
     },
     "execution_count": 3,
     "metadata": {},
     "output_type": "execute_result"
    }
   ],
   "source": [
    "data = data[['FORMATTED_CONTENT', 'CLASS']]\n",
    "data.head()"
   ]
  },
  {
   "cell_type": "code",
   "execution_count": 4,
   "metadata": {},
   "outputs": [
    {
     "data": {
      "text/plain": [
       "1    14\n",
       "0    13\n",
       "Name: CLASS, dtype: int64"
      ]
     },
     "execution_count": 4,
     "metadata": {},
     "output_type": "execute_result"
    }
   ],
   "source": [
    "data[data['FORMATTED_CONTENT'].isna()]['CLASS'].value_counts()"
   ]
  },
  {
   "cell_type": "code",
   "execution_count": 5,
   "metadata": {},
   "outputs": [],
   "source": [
    "data.dropna(inplace=True)"
   ]
  },
  {
   "cell_type": "code",
   "execution_count": 6,
   "metadata": {},
   "outputs": [
    {
     "data": {
      "text/html": [
       "<div>\n",
       "<style scoped>\n",
       "    .dataframe tbody tr th:only-of-type {\n",
       "        vertical-align: middle;\n",
       "    }\n",
       "\n",
       "    .dataframe tbody tr th {\n",
       "        vertical-align: top;\n",
       "    }\n",
       "\n",
       "    .dataframe thead th {\n",
       "        text-align: right;\n",
       "    }\n",
       "</style>\n",
       "<table border=\"1\" class=\"dataframe\">\n",
       "  <thead>\n",
       "    <tr style=\"text-align: right;\">\n",
       "      <th></th>\n",
       "      <th>FORMATTED_CONTENT</th>\n",
       "      <th>CLASS</th>\n",
       "    </tr>\n",
       "  </thead>\n",
       "  <tbody>\n",
       "  </tbody>\n",
       "</table>\n",
       "</div>"
      ],
      "text/plain": [
       "Empty DataFrame\n",
       "Columns: [FORMATTED_CONTENT, CLASS]\n",
       "Index: []"
      ]
     },
     "execution_count": 6,
     "metadata": {},
     "output_type": "execute_result"
    }
   ],
   "source": [
    "data[data['FORMATTED_CONTENT'].isna()]"
   ]
  },
  {
   "cell_type": "code",
   "execution_count": 7,
   "metadata": {},
   "outputs": [
    {
     "data": {
      "text/html": [
       "<div>\n",
       "<style scoped>\n",
       "    .dataframe tbody tr th:only-of-type {\n",
       "        vertical-align: middle;\n",
       "    }\n",
       "\n",
       "    .dataframe tbody tr th {\n",
       "        vertical-align: top;\n",
       "    }\n",
       "\n",
       "    .dataframe thead th {\n",
       "        text-align: right;\n",
       "    }\n",
       "</style>\n",
       "<table border=\"1\" class=\"dataframe\">\n",
       "  <thead>\n",
       "    <tr style=\"text-align: right;\">\n",
       "      <th></th>\n",
       "      <th>CLASS</th>\n",
       "      <th>0</th>\n",
       "      <th>1</th>\n",
       "    </tr>\n",
       "  </thead>\n",
       "  <tbody>\n",
       "    <tr>\n",
       "      <th rowspan=\"4\" valign=\"top\">FORMATTED_CONTENT</th>\n",
       "      <th>count</th>\n",
       "      <td>5763</td>\n",
       "      <td>5762</td>\n",
       "    </tr>\n",
       "    <tr>\n",
       "      <th>unique</th>\n",
       "      <td>5378</td>\n",
       "      <td>5370</td>\n",
       "    </tr>\n",
       "    <tr>\n",
       "      <th>top</th>\n",
       "      <td>Sorry I ll call later</td>\n",
       "      <td>Check out this video on YouTube</td>\n",
       "    </tr>\n",
       "    <tr>\n",
       "      <th>freq</th>\n",
       "      <td>30</td>\n",
       "      <td>101</td>\n",
       "    </tr>\n",
       "  </tbody>\n",
       "</table>\n",
       "</div>"
      ],
      "text/plain": [
       "CLASS                                         0  \\\n",
       "FORMATTED_CONTENT count                    5763   \n",
       "                  unique                   5378   \n",
       "                  top     Sorry I ll call later   \n",
       "                  freq                       30   \n",
       "\n",
       "CLASS                                                   1  \n",
       "FORMATTED_CONTENT count                              5762  \n",
       "                  unique                             5370  \n",
       "                  top     Check out this video on YouTube  \n",
       "                  freq                                101  "
      ]
     },
     "execution_count": 7,
     "metadata": {},
     "output_type": "execute_result"
    }
   ],
   "source": [
    "data.groupby('CLASS').describe().T"
   ]
  },
  {
   "cell_type": "code",
   "execution_count": 8,
   "metadata": {},
   "outputs": [
    {
     "data": {
      "text/plain": [
       "<AxesSubplot:xlabel='CLASS'>"
      ]
     },
     "execution_count": 8,
     "metadata": {},
     "output_type": "execute_result"
    },
    {
     "data": {
      "image/png": "[encoded data removed]",
      "text/plain": [
       "<Figure size 432x288 with 1 Axes>"
      ]
     },
     "metadata": {
      "needs_background": "light"
     },
     "output_type": "display_data"
    }
   ],
   "source": [
    "pd.DataFrame({\"CLASS\": [\"Spam\", \"Not Spam\"], \"COUNT\": data[\"CLASS\"].value_counts()}).plot.bar(x=\"CLASS\", y=\"COUNT\", rot=0, legend=False, color=[\"#e74c3c\", \"blue\"])"
   ]
  },
  {
   "cell_type": "code",
   "execution_count": 9,
   "metadata": {},
   "outputs": [],
   "source": [
    "train_content, test_content, train_class, test_class = train_test_split(data['FORMATTED_CONTENT'],data['CLASS'],test_size=0.2,random_state=45)"
   ]
  },
  {
   "cell_type": "code",
   "execution_count": 10,
   "metadata": {},
   "outputs": [],
   "source": [
    "count_vect = CountVectorizer(stop_words='english')\n",
    "tfidf_transformer = TfidfTransformer()"
   ]
  },
  {
   "cell_type": "code",
   "execution_count": 11,
   "metadata": {},
   "outputs": [
    {
     "data": {
      "text/plain": [
       "<9220x16749 sparse matrix of type '<class 'numpy.float64'>'\n",
       "\twith 76467 stored elements in Compressed Sparse Row format>"
      ]
     },
     "execution_count": 11,
     "metadata": {},
     "output_type": "execute_result"
    }
   ],
   "source": [
    "train_content_counts = count_vect.fit_transform(train_content)\n",
    "train_content_counts\n",
    "train_content_tfidf = tfidf_transformer.fit_transform(train_content_counts)\n",
    "train_content_tfidf"
   ]
  },
  {
   "cell_type": "code",
   "execution_count": 12,
   "metadata": {},
   "outputs": [
    {
     "data": {
      "text/plain": [
       "<2305x16749 sparse matrix of type '<class 'numpy.float64'>'\n",
       "\twith 16737 stored elements in Compressed Sparse Row format>"
      ]
     },
     "execution_count": 12,
     "metadata": {},
     "output_type": "execute_result"
    }
   ],
   "source": [
    "test_content_counts = count_vect.transform(test_content)\n",
    "test_content_counts\n",
    "test_content_tfidf = tfidf_transformer.transform(test_content_counts)\n",
    "test_content_tfidf"
   ]
  },
  {
   "cell_type": "code",
   "execution_count": 13,
   "metadata": {},
   "outputs": [
    {
     "data": {
      "text/plain": [
       "LogisticRegression()"
      ]
     },
     "execution_count": 13,
     "metadata": {},
     "output_type": "execute_result"
    }
   ],
   "source": [
    "model = LogisticRegression()\n",
    "model.fit(train_content_tfidf,train_class)"
   ]
  },
  {
   "cell_type": "code",
   "execution_count": 14,
   "metadata": {},
   "outputs": [],
   "source": [
    "predictions = model.predict(test_content_tfidf)"
   ]
  },
  {
   "cell_type": "code",
   "execution_count": 15,
   "metadata": {},
   "outputs": [
    {
     "data": {
      "text/plain": [
       "0.8880694143167028"
      ]
     },
     "execution_count": 15,
     "metadata": {},
     "output_type": "execute_result"
    }
   ],
   "source": [
    "accuracy_score(test_class, predictions)"
   ]
  },
  {
   "cell_type": "code",
   "execution_count": 16,
   "metadata": {},
   "outputs": [
    {
     "name": "stdout",
     "output_type": "stream",
     "text": [
      "              precision    recall  f1-score   support\n",
      "\n",
      "           0       0.84      0.96      0.89      1142\n",
      "           1       0.95      0.82      0.88      1163\n",
      "\n",
      "    accuracy                           0.89      2305\n",
      "   macro avg       0.90      0.89      0.89      2305\n",
      "weighted avg       0.90      0.89      0.89      2305\n",
      "\n"
     ]
    }
   ],
   "source": [
    "print(classification_report(test_class, predictions))"
   ]
  },
  {
   "cell_type": "code",
   "execution_count": 17,
   "metadata": {},
   "outputs": [
    {
     "data": {
      "text/plain": [
       "<AxesSubplot:>"
      ]
     },
     "execution_count": 17,
     "metadata": {},
     "output_type": "execute_result"
    },
    {
     "data": {
      "image/png": "[encoded data removed]",
      "text/plain": [
       "<Figure size 576x360 with 2 Axes>"
      ]
     },
     "metadata": {
      "needs_background": "light"
     },
     "output_type": "display_data"
    }
   ],
   "source": [
    "c_matrix = confusion_matrix(test_class, predictions)\n",
    "\n",
    "f, ax = plt.subplots(figsize = (8, 5))\n",
    "c_map = sns.diverging_palette(220, 150, as_cmap = True)\n",
    "sns.heatmap(c_matrix, center = 0, cmap=c_map, annot= True, square = True, linewidths= 0.5)"
   ]
  },
  {
   "cell_type": "code",
   "execution_count": 18,
   "metadata": {},
   "outputs": [
    {
     "data": {
      "text/plain": [
       "LogisticRegression(C=2.0)"
      ]
     },
     "execution_count": 18,
     "metadata": {},
     "output_type": "execute_result"
    }
   ],
   "source": [
    "model2 = LogisticRegression(C = 2.0)\n",
    "model2.fit(train_content_tfidf,train_class)"
   ]
  },
  {
   "cell_type": "code",
   "execution_count": 19,
   "metadata": {},
   "outputs": [
    {
     "data": {
      "text/plain": [
       "0.8932754880694144"
      ]
     },
     "execution_count": 19,
     "metadata": {},
     "output_type": "execute_result"
    }
   ],
   "source": [
    "predictions2 = model2.predict(test_content_tfidf)\n",
    "accuracy_score(test_class, predictions2)"
   ]
  },
  {
   "cell_type": "code",
   "execution_count": 20,
   "metadata": {},
   "outputs": [
    {
     "name": "stdout",
     "output_type": "stream",
     "text": [
      "              precision    recall  f1-score   support\n",
      "\n",
      "           0       0.85      0.95      0.90      1142\n",
      "           1       0.95      0.84      0.89      1163\n",
      "\n",
      "    accuracy                           0.89      2305\n",
      "   macro avg       0.90      0.89      0.89      2305\n",
      "weighted avg       0.90      0.89      0.89      2305\n",
      "\n"
     ]
    }
   ],
   "source": [
    "print(classification_report(test_class,predictions2))"
   ]
  },
  {
   "cell_type": "code",
   "execution_count": 21,
   "metadata": {},
   "outputs": [
    {
     "data": {
      "text/plain": [
       "<AxesSubplot:>"
      ]
     },
     "execution_count": 21,
     "metadata": {},
     "output_type": "execute_result"
    },
    {
     "data": {
      "image/png": "[encoded data removed]",
      "text/plain": [
       "<Figure size 576x360 with 2 Axes>"
      ]
     },
     "metadata": {
      "needs_background": "light"
     },
     "output_type": "display_data"
    }
   ],
   "source": [
    "c_matrix2 = confusion_matrix(test_class, predictions2)\n",
    "\n",
    "f, ax = plt.subplots(figsize = (8, 5))\n",
    "c_map2 = sns.diverging_palette(220, 150, as_cmap = True)\n",
    "sns.heatmap(c_matrix2, center = 0, cmap=c_map2, annot= True, square = True, linewidths= 0.5)"
   ]
  },
  {
   "cell_type": "code",
   "execution_count": 22,
   "metadata": {},
   "outputs": [
    {
     "data": {
      "text/plain": [
       "SVC()"
      ]
     },
     "execution_count": 22,
     "metadata": {},
     "output_type": "execute_result"
    }
   ],
   "source": [
    "model3 = SVC()\n",
    "model3.fit(train_content_tfidf,train_class)"
   ]
  },
  {
   "cell_type": "code",
   "execution_count": 23,
   "metadata": {},
   "outputs": [
    {
     "data": {
      "text/plain": [
       "0.8937093275488069"
      ]
     },
     "execution_count": 23,
     "metadata": {},
     "output_type": "execute_result"
    }
   ],
   "source": [
    "predictions3 = model3.predict(test_content_tfidf)\n",
    "accuracy_score(test_class, predictions3)"
   ]
  },
  {
   "cell_type": "code",
   "execution_count": 24,
   "metadata": {},
   "outputs": [
    {
     "name": "stdout",
     "output_type": "stream",
     "text": [
      "              precision    recall  f1-score   support\n",
      "\n",
      "           0       0.84      0.97      0.90      1142\n",
      "           1       0.96      0.82      0.89      1163\n",
      "\n",
      "    accuracy                           0.89      2305\n",
      "   macro avg       0.90      0.89      0.89      2305\n",
      "weighted avg       0.90      0.89      0.89      2305\n",
      "\n"
     ]
    }
   ],
   "source": [
    "print(classification_report(test_class,predictions3))"
   ]
  },
  {
   "cell_type": "code",
   "execution_count": 25,
   "metadata": {},
   "outputs": [
    {
     "data": {
      "text/plain": [
       "<AxesSubplot:>"
      ]
     },
     "execution_count": 25,
     "metadata": {},
     "output_type": "execute_result"
    },
    {
     "data": {
      "image/png": "[encoded data removed]",
      "text/plain": [
       "<Figure size 576x360 with 2 Axes>"
      ]
     },
     "metadata": {
      "needs_background": "light"
     },
     "output_type": "display_data"
    }
   ],
   "source": [
    "c_matrix3 = confusion_matrix(test_class, predictions3)\n",
    "\n",
    "f, ax = plt.subplots(figsize = (8, 5))\n",
    "c_map3 = sns.diverging_palette(220, 150, as_cmap = True)\n",
    "sns.heatmap(c_matrix3, center = 0, cmap=c_map3, annot= True, square = True, linewidths= 0.5)"
   ]
  },
  {
   "cell_type": "code",
   "execution_count": 26,
   "metadata": {},
   "outputs": [
    {
     "data": {
      "text/plain": [
       "0.8941431670281995"
      ]
     },
     "execution_count": 26,
     "metadata": {},
     "output_type": "execute_result"
    }
   ],
   "source": [
    "model4 = SVC(kernel='linear')\n",
    "model4.fit(train_content_tfidf,train_class)\n",
    "predictions4 = model4.predict(test_content_tfidf)\n",
    "accuracy_score(test_class, predictions4)"
   ]
  },
  {
   "cell_type": "code",
   "execution_count": 27,
   "metadata": {},
   "outputs": [
    {
     "name": "stdout",
     "output_type": "stream",
     "text": [
      "              precision    recall  f1-score   support\n",
      "\n",
      "           0       0.85      0.95      0.90      1142\n",
      "           1       0.94      0.84      0.89      1163\n",
      "\n",
      "    accuracy                           0.89      2305\n",
      "   macro avg       0.90      0.89      0.89      2305\n",
      "weighted avg       0.90      0.89      0.89      2305\n",
      "\n"
     ]
    }
   ],
   "source": [
    "print(classification_report(test_class,predictions4))"
   ]
  },
  {
   "cell_type": "code",
   "execution_count": 28,
   "metadata": {},
   "outputs": [
    {
     "data": {
      "text/plain": [
       "<AxesSubplot:>"
      ]
     },
     "execution_count": 28,
     "metadata": {},
     "output_type": "execute_result"
    },
    {
     "data": {
      "image/png": "[encoded data removed]",
      "text/plain": [
       "<Figure size 576x360 with 2 Axes>"
      ]
     },
     "metadata": {
      "needs_background": "light"
     },
     "output_type": "display_data"
    }
   ],
   "source": [
    "c_matrix4 = confusion_matrix(test_class, predictions4)\n",
    "\n",
    "f, ax = plt.subplots(figsize = (8, 5))\n",
    "c_map4 = sns.diverging_palette(220, 150, as_cmap = True)\n",
    "sns.heatmap(c_matrix4, center = 0, cmap=c_map4, annot= True, square = True, linewidths= 0.5)"
   ]
  },
  {
   "cell_type": "code",
   "execution_count": 30,
   "metadata": {},
   "outputs": [
    {
     "name": "stdout",
     "output_type": "stream",
     "text": [
      "Iteration 1, loss = 0.65722230\n",
      "Iteration 2, loss = 0.51064504\n",
      "Iteration 3, loss = 0.35640956\n",
      "Iteration 4, loss = 0.21610576\n",
      "Iteration 5, loss = 0.12510859\n",
      "Iteration 6, loss = 0.07941605\n",
      "Iteration 7, loss = 0.05537031\n",
      "Iteration 8, loss = 0.04106062\n",
      "Iteration 9, loss = 0.03192758\n",
      "Iteration 10, loss = 0.02564675\n",
      "Iteration 11, loss = 0.02138395\n",
      "Iteration 12, loss = 0.01773318\n",
      "Iteration 13, loss = 0.01526196\n",
      "Iteration 14, loss = 0.01332462\n",
      "Iteration 15, loss = 0.01180383\n",
      "Iteration 16, loss = 0.01106012\n",
      "Iteration 17, loss = 0.00985172\n",
      "Iteration 18, loss = 0.00907803\n",
      "Iteration 19, loss = 0.00838819\n",
      "Iteration 20, loss = 0.00785593\n",
      "Iteration 21, loss = 0.00749269\n",
      "Iteration 22, loss = 0.00706625\n",
      "Iteration 23, loss = 0.00664876\n",
      "Iteration 24, loss = 0.00641133\n",
      "Iteration 25, loss = 0.00615016\n",
      "Iteration 26, loss = 0.00600511\n",
      "Iteration 27, loss = 0.00573968\n",
      "Iteration 28, loss = 0.00563533\n",
      "Iteration 29, loss = 0.00547473\n",
      "Iteration 30, loss = 0.00530505\n",
      "Iteration 31, loss = 0.00523620\n",
      "Iteration 32, loss = 0.00505057\n",
      "Iteration 33, loss = 0.00497413\n",
      "Iteration 34, loss = 0.00507697\n",
      "Iteration 35, loss = 0.00481035\n",
      "Iteration 36, loss = 0.00471151\n",
      "Iteration 37, loss = 0.00461519\n",
      "Iteration 38, loss = 0.00452872\n",
      "Iteration 39, loss = 0.00459787\n",
      "Iteration 40, loss = 0.00434167\n",
      "Iteration 41, loss = 0.00417330\n",
      "Iteration 42, loss = 0.00411599\n",
      "Iteration 43, loss = 0.00403024\n",
      "Iteration 44, loss = 0.00395656\n",
      "Iteration 45, loss = 0.00386681\n",
      "Iteration 46, loss = 0.00364448\n",
      "Iteration 47, loss = 0.00366548\n",
      "Iteration 48, loss = 0.00359445\n",
      "Iteration 49, loss = 0.00350256\n",
      "Iteration 50, loss = 0.00401743\n",
      "Iteration 51, loss = 0.00353710\n",
      "Iteration 52, loss = 0.00353364\n",
      "Iteration 53, loss = 0.00336591\n",
      "Iteration 54, loss = 0.00332507\n",
      "Iteration 55, loss = 0.00333038\n",
      "Iteration 56, loss = 0.00320504\n",
      "Iteration 57, loss = 0.00342336\n",
      "Iteration 58, loss = 0.00313312\n",
      "Iteration 59, loss = 0.00321283\n",
      "Iteration 60, loss = 0.00308879\n",
      "Iteration 61, loss = 0.00318716\n",
      "Iteration 62, loss = 0.00311007\n",
      "Iteration 63, loss = 0.00318555\n",
      "Iteration 64, loss = 0.00319280\n",
      "Iteration 65, loss = 0.00319244\n",
      "Iteration 66, loss = 0.00306165\n",
      "Iteration 67, loss = 0.00302333\n",
      "Training loss did not improve more than tol=0.000100 for 10 consecutive epochs. Stopping.\n"
     ]
    },
    {
     "data": {
      "text/plain": [
       "MLPClassifier(hidden_layer_sizes=(100, 5), verbose=True)"
      ]
     },
     "execution_count": 30,
     "metadata": {},
     "output_type": "execute_result"
    }
   ],
   "source": [
    "model5 = MLPClassifier(verbose=True, shuffle=True, hidden_layer_sizes=(100,5))\n",
    "model5.fit(train_content_tfidf,train_class)"
   ]
  },
  {
   "cell_type": "code",
   "execution_count": 31,
   "metadata": {},
   "outputs": [
    {
     "data": {
      "text/plain": [
       "0.8750542299349241"
      ]
     },
     "execution_count": 31,
     "metadata": {},
     "output_type": "execute_result"
    }
   ],
   "source": [
    "predictions5 = model5.predict(test_content_tfidf)\n",
    "accuracy_score(test_class, predictions5)"
   ]
  },
  {
   "cell_type": "code",
   "execution_count": 32,
   "metadata": {},
   "outputs": [
    {
     "name": "stdout",
     "output_type": "stream",
     "text": [
      "              precision    recall  f1-score   support\n",
      "\n",
      "           0       0.85      0.90      0.88      1142\n",
      "           1       0.90      0.85      0.87      1163\n",
      "\n",
      "    accuracy                           0.88      2305\n",
      "   macro avg       0.88      0.88      0.88      2305\n",
      "weighted avg       0.88      0.88      0.87      2305\n",
      "\n"
     ]
    }
   ],
   "source": [
    "print(classification_report(test_class,predictions5))"
   ]
  },
  {
   "cell_type": "code",
   "execution_count": 33,
   "metadata": {},
   "outputs": [
    {
     "data": {
      "text/plain": [
       "<AxesSubplot:>"
      ]
     },
     "execution_count": 33,
     "metadata": {},
     "output_type": "execute_result"
    },
    {
     "data": {
      "image/png": "[encoded data removed]",
      "text/plain": [
       "<Figure size 576x360 with 2 Axes>"
      ]
     },
     "metadata": {
      "needs_background": "light"
     },
     "output_type": "display_data"
    }
   ],
   "source": [
    "c_matrix5 = confusion_matrix(test_class, predictions5)\n",
    "\n",
    "f, ax = plt.subplots(figsize = (8, 5))\n",
    "c_map5 = sns.diverging_palette(220, 150, as_cmap = True)\n",
    "sns.heatmap(c_matrix5, center = 0, cmap=c_map5, annot= True, square = True, linewidths= 0.5)"
   ]
  },
  {
   "cell_type": "code",
   "execution_count": 108,
   "metadata": {},
   "outputs": [
    {
     "data": {
      "text/plain": [
       "0          Happy Birthday Jane Many returs of the day\n",
       "1    Check out my video here to earn quick money xxxx\n",
       "dtype: object"
      ]
     },
     "execution_count": 108,
     "metadata": {},
     "output_type": "execute_result"
    }
   ],
   "source": [
    "new_test_content = pd.Series(['Happy Birthday Jane Many returs of the day', 'Check out my video here to earn quick money xxxx'])\n",
    "new_test_content"
   ]
  },
  {
   "cell_type": "code",
   "execution_count": 109,
   "metadata": {},
   "outputs": [
    {
     "data": {
      "text/plain": [
       "<2x16749 sparse matrix of type '<class 'numpy.float64'>'\n",
       "\twith 9 stored elements in Compressed Sparse Row format>"
      ]
     },
     "execution_count": 109,
     "metadata": {},
     "output_type": "execute_result"
    }
   ],
   "source": [
    "new_test_counts = count_vect.transform(['Happy Birthday Jane Many returs of the day', 'Check out my video here to earn quick money xxxx'])\n",
    "new_test_tfidf = tfidf_transformer.transform(new_test_counts)\n",
    "new_test_tfidf"
   ]
  },
  {
   "cell_type": "code",
   "execution_count": 110,
   "metadata": {},
   "outputs": [
    {
     "data": {
      "text/plain": [
       "array([0, 1], dtype=int64)"
      ]
     },
     "execution_count": 110,
     "metadata": {},
     "output_type": "execute_result"
    }
   ],
   "source": [
    "predictions_new = model.predict(new_test_tfidf)\n",
    "predictions_new"
   ]
  },
  {
   "cell_type": "code",
   "execution_count": 111,
   "metadata": {},
   "outputs": [
    {
     "data": {
      "text/plain": [
       "array([0, 1], dtype=int64)"
      ]
     },
     "execution_count": 111,
     "metadata": {},
     "output_type": "execute_result"
    }
   ],
   "source": [
    "predictions_new_1 = model2.predict(new_test_tfidf)\n",
    "predictions_new_1"
   ]
  },
  {
   "cell_type": "code",
   "execution_count": 112,
   "metadata": {},
   "outputs": [
    {
     "data": {
      "text/plain": [
       "array([0, 1], dtype=int64)"
      ]
     },
     "execution_count": 112,
     "metadata": {},
     "output_type": "execute_result"
    }
   ],
   "source": [
    "predictions_new_4 = model4.predict(new_test_tfidf)\n",
    "predictions_new_4"
   ]
  },
  {
   "cell_type": "code",
   "execution_count": 113,
   "metadata": {},
   "outputs": [
    {
     "data": {
      "text/plain": [
       "array([0, 1], dtype=int64)"
      ]
     },
     "execution_count": 113,
     "metadata": {},
     "output_type": "execute_result"
    }
   ],
   "source": [
    "predictions_new_5 = model5.predict(new_test_tfidf)\n",
    "predictions_new_5"
   ]
  },
  {
   "cell_type": "code",
   "execution_count": 115,
   "metadata": {},
   "outputs": [],
   "source": [
    "from joblib import dump, load"
   ]
  },
  {
   "cell_type": "code",
   "execution_count": 116,
   "metadata": {},
   "outputs": [
    {
     "data": {
      "text/plain": [
       "['./model/vectorizer.joblib']"
      ]
     },
     "execution_count": 116,
     "metadata": {},
     "output_type": "execute_result"
    }
   ],
   "source": [
    "dump(count_vect, './model/vectorizer.joblib')"
   ]
  },
  {
   "cell_type": "code",
   "execution_count": 117,
   "metadata": {},
   "outputs": [
    {
     "data": {
      "text/plain": [
       "['./model/tfidf.joblib']"
      ]
     },
     "execution_count": 117,
     "metadata": {},
     "output_type": "execute_result"
    }
   ],
   "source": [
    "dump(tfidf_transformer, './model/tfidf.joblib')"
   ]
  },
  {
   "cell_type": "code",
   "execution_count": 118,
   "metadata": {},
   "outputs": [
    {
     "data": {
      "text/plain": [
       "['./model/svm_linear.joblib']"
      ]
     },
     "execution_count": 118,
     "metadata": {},
     "output_type": "execute_result"
    }
   ],
   "source": [
    "dump(model4, './model/svm_linear.joblib')"
   ]
  },
  {
   "cell_type": "code",
   "execution_count": 119,
   "metadata": {},
   "outputs": [
    {
     "data": {
      "text/plain": [
       "['./model/mlp.joblib']"
      ]
     },
     "execution_count": 119,
     "metadata": {},
     "output_type": "execute_result"
    }
   ],
   "source": [
    "dump(model5, './model/mlp.joblib')"
   ]
  },
  {
   "cell_type": "code",
   "execution_count": 120,
   "metadata": {},
   "outputs": [
    {
     "data": {
      "text/plain": [
       "['./model/logistic.joblib']"
      ]
     },
     "execution_count": 120,
     "metadata": {},
     "output_type": "execute_result"
    }
   ],
   "source": [
    "dump(model2, './model/logistic.joblib')"
   ]
  }
 ],
 "metadata": {
  "kernelspec": {
   "display_name": "base",
   "language": "python",
   "name": "python3"
  },
  "language_info": {
   "codemirror_mode": {
    "name": "ipython",
    "version": 3
   },
   "file_extension": ".py",
   "mimetype": "text/x-python",
   "name": "python",
   "nbconvert_exporter": "python",
   "pygments_lexer": "ipython3",
   "version": "3.9.12"
  },
  "orig_nbformat": 4,
  "vscode": {
   "interpreter": {
    "hash": "99a55ef0ee9f065b0c26ad4053d52b192c4a9660d78e44faeb519ba7034d1dcd"
   }
  }
 },
 "nbformat": 4,
 "nbformat_minor": 2
}
